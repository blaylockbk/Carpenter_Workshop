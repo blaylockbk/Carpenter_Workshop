{
 "cells": [
  {
   "cell_type": "markdown",
   "id": "a8a15fea-62ce-4fe2-bc39-e67c8ef3ef84",
   "metadata": {},
   "source": [
    "**Brian Blaylock**  \n",
    "*April 22, 2021*\n",
    "\n",
    "# Demo: Path Tree and Print Colored Text"
   ]
  },
  {
   "cell_type": "markdown",
   "id": "1bc1c6ce-4fd1-48e4-81c0-eeb5a3a41616",
   "metadata": {},
   "source": [
    "## Path Tree\n",
    "The `toolbox.stock.full_path` object is a pathlib.Path object with some added features. 1) a `copy` method and 2) a `tree` method."
   ]
  },
  {
   "cell_type": "code",
   "execution_count": 1,
   "id": "4190ce14-8546-4516-88e7-94be5b477193",
   "metadata": {},
   "outputs": [],
   "source": [
    "from toolbox.stock import full_path"
   ]
  },
  {
   "cell_type": "code",
   "execution_count": 2,
   "id": "3f781fc2-fee5-4b55-80a2-d83af607fbba",
   "metadata": {},
   "outputs": [
    {
     "data": {
      "text/plain": [
       "PosixPath('/p/home/blaylock/BB_python/Carpenter_Workshop')"
      ]
     },
     "execution_count": 2,
     "metadata": {},
     "output_type": "execute_result"
    }
   ],
   "source": [
    "p = full_path('$HOME/BB_python/Carpenter_Workshop')\n",
    "p"
   ]
  },
  {
   "cell_type": "code",
   "execution_count": 3,
   "id": "438a7a84-73ae-48d0-bf00-ed81c83a84ba",
   "metadata": {},
   "outputs": [
    {
     "name": "stdout",
     "output_type": "stream",
     "text": [
      "📦 \u001b[31m/p/home/blaylock/BB_python/Carpenter_Workshop\u001b[m\n",
      "├── 📄 BB_style.mplstyle\n",
      "├── 📄 README.md\n",
      "├── 📄 emoji_key.md\n",
      "├── 📄 environment.yml\n",
      "├── 📂 \u001b[34mimages\u001b[m\n",
      "├── 📂 \u001b[34mnotebooks\u001b[m\n",
      "├── 📂 \u001b[34mpaint\u001b[m\n",
      "├── 🐍 setup.py\n",
      "└── 📂 \u001b[34mtoolbox\u001b[m\n"
     ]
    }
   ],
   "source": [
    "contents = p.tree(max_depth=1)"
   ]
  },
  {
   "cell_type": "code",
   "execution_count": 4,
   "id": "fde3dc02-9679-4613-8fe0-d04b7e9b1efd",
   "metadata": {},
   "outputs": [
    {
     "name": "stdout",
     "output_type": "stream",
     "text": [
      "📦 \u001b[31m/p/home/blaylock/BB_python/Carpenter_Workshop\u001b[m\n",
      "├── 📄 BB_style.mplstyle\n",
      "├── 📄 README.md\n",
      "├── 📄 emoji_key.md\n",
      "├── 📄 environment.yml\n",
      "├── 📂 \u001b[34mimages\u001b[m\n",
      "│    ├── 📷 features_summary_10m.png\n",
      "│    ├── 📷 features_summary_110m.png\n",
      "│    ├── 📷 features_summary_50m.png\n",
      "│    └── 📷 light-dark.png\n",
      "├── 📂 \u001b[34mnotebooks\u001b[m\n",
      "│    ├── 📔 demo_cartopy_tools.ipynb\n",
      "│    ├── 📔 demo_fig_letters.ipynb\n",
      "│    ├── 📔 demo_paint.ipynb\n",
      "│    ├── 📔 demo_path-tree_print-color.ipynb\n",
      "│    └── 📔 palettes.ipynb\n",
      "├── 📂 \u001b[34mpaint\u001b[m\n",
      "│    ├── 📕 NWS_Standard_Color_Curve_Summary.pdf\n",
      "│    ├── 📄 README.md\n",
      "│    ├── 🐍 __init__.py\n",
      "│    ├── 🐍 airquality.py\n",
      "│    ├── 📔 color_cylces.ipynb\n",
      "│    ├── 🐍 landuse.py\n",
      "│    ├── 🐍 misc.py\n",
      "│    ├── 📂 \u001b[34mpalettes\u001b[m\n",
      "│    ├── 🐍 palettes.py\n",
      "│    ├── 🐍 radar.py\n",
      "│    ├── 📔 sandbox.ipynb\n",
      "│    ├── 🐍 standard.py\n",
      "│    ├── 🐍 standard2.py\n",
      "│    ├── 📔 standard2_colormaps.ipynb\n",
      "│    ├── 🐍 standard_old.py\n",
      "│    ├── 🐍 terrain.py\n",
      "│    ├── 🐍 terrain2.py\n",
      "│    └── 🐍 vorticity.py\n",
      "├── 🐍 setup.py\n",
      "├── 📂 \u001b[34mtoolbox\u001b[m\n",
      "│    ├── 🐍 __init__.py\n",
      "│    ├── 🐍 animate_image.py\n",
      "│    ├── 🐍 cartopy_scalebar.py\n",
      "│    ├── 🐍 cartopy_tools.py\n",
      "│    ├── 🐍 gridded_data.py\n",
      "│    ├── 🐍 moisture.py\n",
      "│    ├── 🐍 plot_helpers.py\n",
      "│    ├── 📔 sandbox.ipynb\n",
      "│    ├── 🐍 save_file.py\n",
      "│    ├── 🐍 stock.py\n",
      "│    ├── 🐍 tools.py\n",
      "│    ├── 🐍 units.py\n",
      "┴    └── 🐍 wind.py\n"
     ]
    }
   ],
   "source": [
    "contents = p.tree(max_depth=2)"
   ]
  },
  {
   "cell_type": "markdown",
   "id": "8b2db2b5-c851-4b35-91a4-bcc596ee0046",
   "metadata": {},
   "source": [
    "## Colored Text\n",
    "Using ascii escape codes, you can change the color of printed text using the `toolbox.stock.colored_text` function."
   ]
  },
  {
   "cell_type": "code",
   "execution_count": 6,
   "id": "163e31d4-1838-4f4e-b2ab-23efd802c6d6",
   "metadata": {},
   "outputs": [
    {
     "name": "stdout",
     "output_type": "stream",
     "text": [
      "Help on function colored_text in module toolbox.stock:\n",
      "\n",
      "colored_text(text, color=None, background=None, style=None, *, show_code=False, do_print=True)\n",
      "    Print colored text to the terminal in Python with ASCII escape codes.\n",
      "    \n",
      "    References\n",
      "    ----------\n",
      "    [1] https://ozzmaker.com/add-colour-to-text-in-python/\n",
      "    [2] https://www.instructables.com/Printing-Colored-Text-in-Python-Without-Any-Module/\n",
      "    [3] 256 Colors: https://gist.github.com/fnky/458719343aabd01cfb17a3a4f7296797#256-colors\n",
      "    [4] 256 Colors: https://jonasjacek.github.io/colors/\n",
      "    \n",
      "    Parameters\n",
      "    ----------\n",
      "    text : str\n",
      "        The string you wish to print\n",
      "    color : {'k', 'r', 'g', 'y', 'b', 'p', 'c', 'w'} or int\n",
      "        The text color\n",
      "    style : list of {'bold', 'dark', 'underline', 'blink', 'reverse', 'concealed'}\n",
      "        Text style effects\n",
      "    background : {'k', 'r', 'g', 'y', 'b', 'p', 'c', 'w'} or int\n",
      "        Background color\n",
      "    \n",
      "    Examples\n",
      "    --------\n",
      "    >>> string = 'Color this string :)'\n",
      "    >>> colored_text(string, 'blue')\n",
      "    >>> colored_text(string, 'blue', 'red')\n",
      "    >>> colored_text(string, 'g', 'y', ['underline', 'reverse'])\n",
      "\n"
     ]
    }
   ],
   "source": [
    "from toolbox.stock import colored_text\n",
    "\n",
    "help(colored_text)"
   ]
  },
  {
   "cell_type": "code",
   "execution_count": 7,
   "id": "4dca1b69-d4b6-495f-99b7-e3180faddf87",
   "metadata": {},
   "outputs": [
    {
     "name": "stdout",
     "output_type": "stream",
     "text": [
      "\u001b[mThis is some text I want to make colorful\u001b[m\n",
      "\u001b[34mThis is some text I want to make colorful\u001b[m\n",
      "\u001b[30mThis is some text I want to make colorful\u001b[m\n",
      "\u001b[33;42mThis is some text I want to make colorful\u001b[m\n",
      "\u001b[31;4mThis is some text I want to make colorful\u001b[m\n",
      "\u001b[38;5;31mThis is some text I want to make colorful\u001b[m\n",
      "\u001b[48;5;202mThis is some text I want to make colorful\u001b[m\n",
      "\u001b[35;7mThis is some text I want to make colorful\u001b[m\n"
     ]
    }
   ],
   "source": [
    "string = 'This is some text I want to make colorful'\n",
    "\n",
    "colored_text(string)\n",
    "colored_text(string, color='b')\n",
    "colored_text(string, color='k')\n",
    "colored_text(string, color='y', background='g')\n",
    "colored_text(string, color='r', style='underline')\n",
    "colored_text(string, color=31)  # use 256 color integer\n",
    "colored_text(string, background=202)  # use 256 color integer (https://jonasjacek.github.io/colors/)\n",
    "colored_text(string, color='p', style='reverse')\n"
   ]
  },
  {
   "cell_type": "code",
   "execution_count": null,
   "id": "9b71fc0d-3200-4b09-b6bb-b641bd6bccba",
   "metadata": {},
   "outputs": [],
   "source": []
  }
 ],
 "metadata": {
  "kernelspec": {
   "display_name": "Python 3",
   "language": "python",
   "name": "python3"
  },
  "language_info": {
   "codemirror_mode": {
    "name": "ipython",
    "version": 3
   },
   "file_extension": ".py",
   "mimetype": "text/x-python",
   "name": "python",
   "nbconvert_exporter": "python",
   "pygments_lexer": "ipython3",
   "version": "3.8.8"
  }
 },
 "nbformat": 4,
 "nbformat_minor": 5
}
