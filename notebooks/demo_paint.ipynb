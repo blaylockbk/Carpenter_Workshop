{
 "cells": [
  {
   "cell_type": "markdown",
   "metadata": {},
   "source": [
    "**Brian Blaylock**  \n",
    "*February 15, 2021*\n",
    "\n",
    "# 🎨 Paint: Color scales for matplotlib"
   ]
  },
  {
   "cell_type": "markdown",
   "metadata": {},
   "source": [
    "## Standard Paint: NWS Colorscales"
   ]
  },
  {
   "cell_type": "code",
   "execution_count": 1,
   "metadata": {},
   "outputs": [],
   "source": [
    "from paint.standard import *"
   ]
  },
  {
   "cell_type": "code",
   "execution_count": 7,
   "metadata": {},
   "outputs": [],
   "source": [
    "import matplotlib as mpl\n",
    "#mpl.use('Agg') # Uncomment if you don't want to display the figure.\n",
    "\n",
    "import matplotlib.pyplot as plt\n",
    "import matplotlib.colors as colors\n",
    "import numpy as np\n",
    "import matplotlib as mpl\n",
    "\n",
    "def cm_wind(display_cmap=False, continuous=False, \n",
    "            fixed=False,\n",
    "            vmin=0, vmax=140):\n",
    "    \"\"\"\n",
    "    Colormap for wind speed (m/s).\n",
    "    \n",
    "    .. image:: _static/BB_cmap/cm_wind.png\n",
    "    \n",
    "    Parameters\n",
    "    ----------\n",
    "    display_cmap : bool\n",
    "        If True, show just the cmap\n",
    "    \"\"\"\n",
    "    label = r'Wind Speed (m s$\\mathregular{^{-1}}$)'\n",
    "    \n",
    "    # Color tuple for every bin\n",
    "    COLORS = np.array([\n",
    "       '#103f78', '#225ea8', '#1d91c0', '#41b6c4',\n",
    "       '#7fcdbb', '#b4d79e', '#dfff9e', '#ffffa6',\n",
    "       '#ffe873', '#ffc400', '#ffaa00', '#ff5900',\n",
    "       '#ff0000', '#a80000', '#6e0000', '#ffbee8',\n",
    "       '#ff73df'\n",
    "    ])\n",
    "\n",
    "    bounds = np.array([0,5,10,15,20,25,30,35,40,45,50,60,70,80,100,120,140])\n",
    "    \n",
    "    if continuous:\n",
    "        cmap = colors.LinearSegmentedColormap.from_list(\"Wind Speed\", COLORS)\n",
    "        norm = colors.Normalize(vmin, vmax)\n",
    "    else:\n",
    "        logic = np.logical_and(bounds >=vmin, bounds <= vmax)\n",
    "        if not fixed:\n",
    "            COLORS = COLORS[logic]\n",
    "            BOUNDS = bounds[logic]\n",
    "        cmap = colors.LinearSegmentedColormap.from_list(\"Wind Speed\", COLORS,\n",
    "                                                        N=len(COLORS)+1)\n",
    "        \n",
    "        norm = colors.BoundaryNorm(boundaries=bounds, ncolors=len(bounds))\n",
    "    \n",
    "    if display_cmap:\n",
    "        fig = plt.figure(figsize=(8, 3))\n",
    "        ax = fig.add_axes([0.05, 0.80, 0.9, 0.1])\n",
    "        cb = mpl.colorbar.ColorbarBase(ax, orientation='horizontal', \n",
    "                                       cmap=cmap, norm=norm, label=label,\n",
    "                                       ticks=bounds, spacing='proportional',\n",
    "                                       extend='max')\n",
    "    \n",
    "    return {'cmap': cmap, 'norm': norm}, \\\n",
    "           {'label': label, 'ticks': bounds, 'spacing': 'proportional', 'extend':'max'}\n",
    "    "
   ]
  },
  {
   "cell_type": "code",
   "execution_count": 12,
   "metadata": {},
   "outputs": [
    {
     "data": {
      "text/plain": [
       "({'cmap': <matplotlib.colors.LinearSegmentedColormap at 0x2ab4bf4b0b50>,\n",
       "  'norm': <matplotlib.colors.Normalize at 0x2ab4c77cef90>},\n",
       " {'label': 'Wind Speed (m s$\\\\mathregular{^{-1}}$)',\n",
       "  'ticks': array([  0,   5,  10,  15,  20,  25,  30,  35,  40,  45,  50,  60,  70,\n",
       "          80, 100, 120, 140]),\n",
       "  'spacing': 'proportional',\n",
       "  'extend': 'max'})"
      ]
     },
     "execution_count": 12,
     "metadata": {},
     "output_type": "execute_result"
    },
    {
     "data": {
      "image/png": "[encoded data removed]",
      "text/plain": [
       "<Figure size 576x216 with 1 Axes>"
      ]
     },
     "metadata": {
      "needs_background": "light"
     },
     "output_type": "display_data"
    }
   ],
   "source": [
    "cm_wind(True, continuous=5, vmax=40, fixed=False)"
   ]
  },
  {
   "cell_type": "code",
   "execution_count": null,
   "metadata": {},
   "outputs": [],
   "source": []
  }
 ],
 "metadata": {
  "kernelspec": {
   "display_name": "Python 3",
   "language": "python",
   "name": "python3"
  },
  "language_info": {
   "codemirror_mode": {
    "name": "ipython",
    "version": 3
   },
   "file_extension": ".py",
   "mimetype": "text/x-python",
   "name": "python",
   "nbconvert_exporter": "python",
   "pygments_lexer": "ipython3",
   "version": "3.7.9"
  }
 },
 "nbformat": 4,
 "nbformat_minor": 4
}
