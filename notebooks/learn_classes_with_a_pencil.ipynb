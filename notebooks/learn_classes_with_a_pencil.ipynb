{
 "cells": [
  {
   "cell_type": "markdown",
   "metadata": {},
   "source": [
    "# Learn how to make classes in Python with a Pencil\n",
    "I first started learning python in 2013. It wasn't until 2020 that I finally had the \"epiphany\" of how classes work and how to use them.\n",
    "\n",
    "When you write a class, you are writing a blueprint for a new object. How is this done? Let's consider a simple object, a **pencil**.\n",
    "\n",
    "This was my epiphany: Classes both define attributes of what the object _is_ and define what the object _can do_.\n",
    "\n",
    "What are the attributes of a pencil?\n",
    "- Brand\n",
    "- Length\n",
    "- Led Color\n",
    "- Led sharpness\n",
    "\n",
    "What are the actions that a pencil can do?\n",
    "- Write text\n",
    "- Sharpen it (we need to sharpen the pencil before it can write)\\\n",
    "- We can even snap a pencil in half and have two pencils!"
   ]
  },
  {
   "cell_type": "code",
   "execution_count": 1,
   "metadata": {},
   "outputs": [],
   "source": [
    "class Pencil():\n",
    "    def __init__(self, length=10, color=\"black\"):\n",
    "        self.length = length\n",
    "        self.color = color"
   ]
  },
  {
   "cell_type": "code",
   "execution_count": 2,
   "metadata": {},
   "outputs": [
    {
     "data": {
      "text/plain": [
       "__main__.Pencil"
      ]
     },
     "execution_count": 2,
     "metadata": {},
     "output_type": "execute_result"
    }
   ],
   "source": [
    "Pencil"
   ]
  },
  {
   "cell_type": "code",
   "execution_count": 3,
   "metadata": {},
   "outputs": [
    {
     "data": {
      "text/plain": [
       "<__main__.Pencil at 0x7f52d7b40a30>"
      ]
     },
     "execution_count": 3,
     "metadata": {},
     "output_type": "execute_result"
    }
   ],
   "source": [
    "Pencil()"
   ]
  },
  {
   "cell_type": "code",
   "execution_count": 4,
   "metadata": {},
   "outputs": [
    {
     "data": {
      "text/plain": [
       "(10, 'black')"
      ]
     },
     "execution_count": 4,
     "metadata": {},
     "output_type": "execute_result"
    }
   ],
   "source": [
    "# What is the pencil? Well, it has a length and a color.\n",
    "Pencil().length, Pencil().color"
   ]
  },
  {
   "cell_type": "markdown",
   "metadata": {},
   "source": [
    "## lets make more to this pencil"
   ]
  },
  {
   "cell_type": "code",
   "execution_count": 27,
   "metadata": {},
   "outputs": [],
   "source": [
    "num_pencils = 0\n",
    "\n",
    "class Pencil():\n",
    "    def __init__(self, color=\"black\"):\n",
    "        \"\"\"Attributes when you initialize this object\"\"\"\n",
    "        self.color = color\n",
    "        \n",
    "        self.brand = \"Dixon Ticonderoga\"\n",
    "        self.length = 10.0    # inches\n",
    "        self.sharpness = 0    # between 0 and 1\n",
    "        \n",
    "        global num_pencils \n",
    "        num_pencils += 1\n",
    "    \n",
    "    def __repr__(self):\n",
    "        \"\"\"This is how the object is represented\"\"\"\n",
    "        return f\"Pencil(color={self.color}, length={self.length}, sharpness={self.sharpness})\"    \n",
    "    \n",
    "    def __str__(self):\n",
    "        \"\"\"\n",
    "        Defines the string representation of the object.\n",
    "        \n",
    "        For example, it is what is printed when you \n",
    "            - print(Pencil())\n",
    "            - str(Pencil())\n",
    "        \"\"\"\n",
    "        a = f\"\"\"\n",
    " ______                        _  _ \n",
    "(_____ \\                      (_)| |    Length: {self.length}\n",
    " _____) )  ____  ____    ____  _ | |    Sharpness: {self.sharpness}\n",
    "|  ____/  / _  )|  _ \\  / ___)| || |    Color: {self.color}\n",
    "| |      ( (/ / | | | |( (___ | || |    Brand: {self.brand}\n",
    "|_|       \\____)|_| |_| \\____)|_||_|\n",
    "                            \n",
    "        \"\"\" \n",
    "        \n",
    "        return a\n",
    "    \n",
    "    \n",
    "    ################################################\n",
    "    # The following functions are called \"methods.\" \n",
    "    # These define what the object can do.\n",
    "    ################################################\n",
    "    \n",
    "    def sharpen(self):\n",
    "        \"\"\"\n",
    "        Sharpen the pencil\n",
    "        \n",
    "        Sharpening sets the sharpness to 1 and reduces the length by 0.5 inches. \n",
    "        \"\"\"\n",
    "        \n",
    "        if self.length <= 0.5:\n",
    "            print(\"The pencil is too short to sharpen! You need a new pencil.\")\n",
    "            return None\n",
    "        \n",
    "        self.length -= 0.5\n",
    "        self.sharpness = 1\n",
    "        \n",
    "        return self  # We return the same pencil\n",
    "        \n",
    "    def write(self, words):\n",
    "        if self.sharpness == 0:\n",
    "            print(\"You can't write with a blunt pencil! Please sharpen the pencil first.\")\n",
    "        else:\n",
    "            # Each letter written reduces the sharpness by 0.01\n",
    "            sharpness_after_writing = self.sharpness - (0.01 * len(words))\n",
    "                        \n",
    "            if sharpness_after_writing <= 0:\n",
    "                print(f\"You're pencil is dull. You can only write {self.sharpness*100} characters with this led. You will need to sharpen it.\")\n",
    "                return None\n",
    "            \n",
    "            print(words, end=\"\")\n",
    "            self.sharpness -= 0.01 * len(words.replace(\" \", \"\"))\n",
    "            \n",
    "    def snap(self):\n",
    "        \"\"\"\n",
    "        Snap the pencil!\n",
    "        \"\"\"\n",
    "        # We need deepcopy to make a copy of the class so we don't \n",
    "        # overwrite the original object.\n",
    "        from copy import deepcopy  \n",
    "        \n",
    "        p1 = self\n",
    "        p1.length = self.length / 2\n",
    "        \n",
    "        # The broken pencil is identical to the original pencil, but\n",
    "        # this one has no sharpness.\n",
    "        p2 = deepcopy(p1)\n",
    "        p2.sharpness = 0\n",
    "        \n",
    "        return p1, p2\n",
    "             "
   ]
  },
  {
   "cell_type": "code",
   "execution_count": 28,
   "metadata": {},
   "outputs": [
    {
     "data": {
      "text/plain": [
       "Pencil(color=black, length=10.0, sharpness=0)"
      ]
     },
     "execution_count": 28,
     "metadata": {},
     "output_type": "execute_result"
    }
   ],
   "source": [
    "p = Pencil()\n",
    "p"
   ]
  },
  {
   "cell_type": "code",
   "execution_count": 29,
   "metadata": {},
   "outputs": [],
   "source": [
    "# what can be done with this class?\n",
    "# dir(p)"
   ]
  },
  {
   "cell_type": "code",
   "execution_count": 30,
   "metadata": {},
   "outputs": [
    {
     "name": "stdout",
     "output_type": "stream",
     "text": [
      "You can't write with a blunt pencil! Please sharpen the pencil first.\n"
     ]
    }
   ],
   "source": [
    "p.write(\"Hello World!\")"
   ]
  },
  {
   "cell_type": "code",
   "execution_count": 31,
   "metadata": {},
   "outputs": [
    {
     "data": {
      "text/plain": [
       "Pencil(color=black, length=9.5, sharpness=1)"
      ]
     },
     "execution_count": 31,
     "metadata": {},
     "output_type": "execute_result"
    }
   ],
   "source": [
    "p.sharpen()"
   ]
  },
  {
   "cell_type": "code",
   "execution_count": 32,
   "metadata": {},
   "outputs": [
    {
     "name": "stdout",
     "output_type": "stream",
     "text": [
      "Hello World!"
     ]
    },
    {
     "data": {
      "text/plain": [
       "Pencil(color=black, length=9.5, sharpness=0.89)"
      ]
     },
     "execution_count": 32,
     "metadata": {},
     "output_type": "execute_result"
    }
   ],
   "source": [
    "p.write(\"Hello World!\")\n",
    "p"
   ]
  },
  {
   "cell_type": "code",
   "execution_count": 33,
   "metadata": {},
   "outputs": [
    {
     "name": "stdout",
     "output_type": "stream",
     "text": [
      "\n",
      " ______                        _  _ \n",
      "(_____ \\                      (_)| |    Length: 9.5\n",
      " _____) )  ____  ____    ____  _ | |    Sharpness: 0.89\n",
      "|  ____/  / _  )|  _ \\  / ___)| || |    Color: black\n",
      "| |      ( (/ / | | | |( (___ | || |    Brand: Dixon Ticonderoga\n",
      "|_|       \\____)|_| |_| \\____)|_||_|\n",
      "                            \n",
      "        \n"
     ]
    }
   ],
   "source": [
    "print(p)"
   ]
  },
  {
   "cell_type": "code",
   "execution_count": 34,
   "metadata": {},
   "outputs": [
    {
     "name": "stdout",
     "output_type": "stream",
     "text": [
      "You're pencil is dull. You can only write 89.0 characters with this led. You will need to sharpen it.\n"
     ]
    }
   ],
   "source": [
    "long_string = \"\"\"\n",
    "                        A Christmas Carol\n",
    "                     Stave 1: Marley's Ghost\n",
    "                     -----------------------\n",
    "   \n",
    "Marley was dead: to begin with. There is no doubt whatever about that. \n",
    "The register of his burial was signed by the clergyman, the clerk, the \n",
    "undertaker, and the chief mourner. Scrooge signed it. And Scrooge's name\n",
    "was good upon 'Change, for anything he chose to put his hand to.\n",
    "\n",
    "Old Marley was as dead as a door-nail.\n",
    "------------------------------------------------------------------------\n",
    "\"\"\"\n",
    "\n",
    "p.write(long_string)"
   ]
  },
  {
   "cell_type": "code",
   "execution_count": 35,
   "metadata": {},
   "outputs": [
    {
     "name": "stdout",
     "output_type": "stream",
     "text": [
      "\n",
      "                        A Christmas Carol\n",
      "                     Stave 1: Marley's Ghost\n",
      "                     -----------------------\n",
      "   \n",
      "Marley was dead: to begin with. There is no doubt whatever about that. \n",
      "The register of his burial was signed by the clergyman, the clerk, the \n",
      "undertaker, and the chief mourner. Scrooge signed it. And Scrooge's name\n",
      "was good upon 'Change, for anything he chose to put his hand to.\n",
      "\n",
      "Old Marley was as dead as a door-nail.\n",
      "------------------------------------------------------------------------\n",
      "\n",
      "\n",
      "How much pencil is left?\n"
     ]
    },
    {
     "data": {
      "text/plain": [
       "Pencil(color=black, length=7.0, sharpness=0.63)"
      ]
     },
     "execution_count": 35,
     "metadata": {},
     "output_type": "execute_result"
    }
   ],
   "source": [
    "p = Pencil()\n",
    "\n",
    "# Our pencil can only write 99 characters before it is dull.\n",
    "# To write a long string, we need to write a loop to write part of the\n",
    "# string, then sharpen the pencil, then write the next part.\n",
    "characters_to_write = 99\n",
    "\n",
    "for i in range(0, len(long_string), characters_to_write):\n",
    "    p.sharpen()    \n",
    "    p.write(long_string[i:i+characters_to_write])\n",
    "    \n",
    "\n",
    "print(\"\\n\\nHow much pencil is left?\")\n",
    "p"
   ]
  },
  {
   "cell_type": "markdown",
   "metadata": {},
   "source": [
    "## Let's break the pencil!"
   ]
  },
  {
   "cell_type": "code",
   "execution_count": 36,
   "metadata": {},
   "outputs": [
    {
     "data": {
      "text/plain": [
       "Pencil(color=black, length=9.5, sharpness=1)"
      ]
     },
     "execution_count": 36,
     "metadata": {},
     "output_type": "execute_result"
    }
   ],
   "source": [
    "p = Pencil().sharpen()\n",
    "p"
   ]
  },
  {
   "cell_type": "code",
   "execution_count": 37,
   "metadata": {},
   "outputs": [],
   "source": [
    "p1, p2 = p.snap()"
   ]
  },
  {
   "cell_type": "code",
   "execution_count": 38,
   "metadata": {},
   "outputs": [
    {
     "name": "stdout",
     "output_type": "stream",
     "text": [
      "\n",
      " ______                        _  _ \n",
      "(_____ \\                      (_)| |    Length: 4.75\n",
      " _____) )  ____  ____    ____  _ | |    Sharpness: 1\n",
      "|  ____/  / _  )|  _ \\  / ___)| || |    Color: black\n",
      "| |      ( (/ / | | | |( (___ | || |    Brand: Dixon Ticonderoga\n",
      "|_|       \\____)|_| |_| \\____)|_||_|\n",
      "                            \n",
      "        \n"
     ]
    }
   ],
   "source": [
    "print(p1)  # This one is still sharp"
   ]
  },
  {
   "cell_type": "code",
   "execution_count": 39,
   "metadata": {},
   "outputs": [
    {
     "name": "stdout",
     "output_type": "stream",
     "text": [
      "\n",
      " ______                        _  _ \n",
      "(_____ \\                      (_)| |    Length: 4.75\n",
      " _____) )  ____  ____    ____  _ | |    Sharpness: 0\n",
      "|  ____/  / _  )|  _ \\  / ___)| || |    Color: black\n",
      "| |      ( (/ / | | | |( (___ | || |    Brand: Dixon Ticonderoga\n",
      "|_|       \\____)|_| |_| \\____)|_||_|\n",
      "                            \n",
      "        \n"
     ]
    }
   ],
   "source": [
    "print(p2)  # This one is dull"
   ]
  },
  {
   "cell_type": "code",
   "execution_count": 40,
   "metadata": {},
   "outputs": [
    {
     "data": {
      "text/plain": [
       "3"
      ]
     },
     "execution_count": 40,
     "metadata": {},
     "output_type": "execute_result"
    }
   ],
   "source": [
    "# How many pencils do we have? (everytime you create a new pencil, it is counted)\n",
    "num_pencils"
   ]
  },
  {
   "cell_type": "code",
   "execution_count": null,
   "metadata": {},
   "outputs": [],
   "source": []
  }
 ],
 "metadata": {
  "interpreter": {
   "hash": "47f948667d493278aed2a242ada716ebab6e003701a2b34fdc136fa8489067e9"
  },
  "kernelspec": {
   "display_name": "Python 3.9.6 64-bit ('basic39': conda)",
   "name": "python3"
  },
  "language_info": {
   "codemirror_mode": {
    "name": "ipython",
    "version": 3
   },
   "file_extension": ".py",
   "mimetype": "text/x-python",
   "name": "python",
   "nbconvert_exporter": "python",
   "pygments_lexer": "ipython3",
   "version": "3.9.6"
  },
  "orig_nbformat": 4
 },
 "nbformat": 4,
 "nbformat_minor": 2
}
